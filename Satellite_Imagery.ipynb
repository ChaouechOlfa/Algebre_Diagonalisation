{
  "nbformat": 4,
  "nbformat_minor": 0,
  "metadata": {
    "colab": {
      "provenance": [],
      "mount_file_id": "1rgP5qO_mxVwbZx4Lp2daA_8pmFBlTaLh",
      "authorship_tag": "ABX9TyO22YKamGo8lLdnqMEK3Hyr",
      "include_colab_link": true
    },
    "kernelspec": {
      "name": "python3",
      "display_name": "Python 3"
    },
    "language_info": {
      "name": "python"
    }
  },
  "cells": [
    {
      "cell_type": "markdown",
      "metadata": {
        "id": "view-in-github",
        "colab_type": "text"
      },
      "source": [
        "<a href=\"https://colab.research.google.com/github/ChaouechOlfa/Algebre_Diagonalisation/blob/main/Satellite_Imagery.ipynb\" target=\"_parent\"><img src=\"https://colab.research.google.com/assets/colab-badge.svg\" alt=\"Open In Colab\"/></a>"
      ]
    },
    {
      "cell_type": "code",
      "source": [
        "import os\n",
        "import cv2\n",
        "from PIL import Image"
      ],
      "metadata": {
        "id": "VDAf-oMNS6gB"
      },
      "execution_count": 55,
      "outputs": []
    },
    {
      "cell_type": "code",
      "execution_count": 74,
      "metadata": {
        "colab": {
          "base_uri": "https://localhost:8080/"
        },
        "id": "YE8jux5wlYgl",
        "outputId": "f54df0e8-76c2-439c-b2c8-aa3c181952cd"
      },
      "outputs": [
        {
          "output_type": "stream",
          "name": "stdout",
          "text": [
            "Mounted at /content/gdrive\n"
          ]
        }
      ],
      "source": [
        "from google.colab import drive\n",
        "drive.mount('/content/gdrive')"
      ]
    },
    {
      "cell_type": "code",
      "source": [
        "print(path)"
      ],
      "metadata": {
        "colab": {
          "base_uri": "https://localhost:8080/"
        },
        "id": "HK1tQKoI36TS",
        "outputId": "747ac029-b151-4e87-9a13-da510b07a41e"
      },
      "execution_count": 79,
      "outputs": [
        {
          "output_type": "stream",
          "name": "stdout",
          "text": [
            "/content/gdrive/MyDrive/Colab Notebooks/SatelliteImagery/datasets/Satellite/DubaiDataset/.ipynb_checkpoints\n"
          ]
        }
      ]
    },
    {
      "cell_type": "code",
      "source": [
        "mkdir SatelliteImagery "
      ],
      "metadata": {
        "id": "YmO0OIJBpRxR"
      },
      "execution_count": 8,
      "outputs": []
    },
    {
      "cell_type": "code",
      "source": [
        "cd SatelliteImagery"
      ],
      "metadata": {
        "colab": {
          "base_uri": "https://localhost:8080/",
          "height": 878
        },
        "id": "-h8XVwg9pZr5",
        "outputId": "3d004b18-f19b-46c0-d992-b5a08e0a83cd"
      },
      "execution_count": 77,
      "outputs": [
        {
          "output_type": "stream",
          "name": "stderr",
          "text": [
            "ERROR:root:Internal Python error in the inspect module.\n",
            "Below is the traceback from this internal error.\n",
            "\n"
          ]
        },
        {
          "output_type": "stream",
          "name": "stdout",
          "text": [
            "Traceback (most recent call last):\n",
            "  File \"/usr/local/lib/python3.8/dist-packages/IPython/core/interactiveshell.py\", line 3326, in run_code\n",
            "    exec(code_obj, self.user_global_ns, self.user_ns)\n",
            "  File \"<ipython-input-77-7ffc72678b70>\", line 1, in <module>\n",
            "    get_ipython().run_line_magic('cd', 'SatelliteImagery')\n",
            "  File \"/usr/local/lib/python3.8/dist-packages/IPython/core/interactiveshell.py\", line 2314, in run_line_magic\n",
            "    result = fn(*args, **kwargs)\n",
            "  File \"<decorator-gen-85>\", line 2, in cd\n",
            "  File \"/usr/local/lib/python3.8/dist-packages/IPython/core/magic.py\", line 187, in <lambda>\n",
            "    call = lambda f, *a, **k: f(*a, **k)\n",
            "  File \"/usr/local/lib/python3.8/dist-packages/IPython/core/magics/osm.py\", line 334, in cd\n",
            "    oldcwd = os.getcwd()\n",
            "OSError: [Errno 107] Transport endpoint is not connected\n",
            "\n",
            "During handling of the above exception, another exception occurred:\n",
            "\n",
            "Traceback (most recent call last):\n",
            "  File \"/usr/local/lib/python3.8/dist-packages/IPython/core/interactiveshell.py\", line 2040, in showtraceback\n",
            "    stb = value._render_traceback_()\n",
            "AttributeError: 'OSError' object has no attribute '_render_traceback_'\n",
            "\n",
            "During handling of the above exception, another exception occurred:\n",
            "\n",
            "Traceback (most recent call last):\n",
            "  File \"/usr/local/lib/python3.8/dist-packages/IPython/core/ultratb.py\", line 1101, in get_records\n",
            "    return _fixed_getinnerframes(etb, number_of_lines_of_context, tb_offset)\n",
            "  File \"/usr/local/lib/python3.8/dist-packages/IPython/core/ultratb.py\", line 319, in wrapped\n",
            "    return f(*args, **kwargs)\n",
            "  File \"/usr/local/lib/python3.8/dist-packages/IPython/core/ultratb.py\", line 353, in _fixed_getinnerframes\n",
            "    records = fix_frame_records_filenames(inspect.getinnerframes(etb, context))\n",
            "  File \"/usr/lib/python3.8/inspect.py\", line 1515, in getinnerframes\n",
            "    frameinfo = (tb.tb_frame,) + getframeinfo(tb, context)\n",
            "  File \"/usr/lib/python3.8/inspect.py\", line 1473, in getframeinfo\n",
            "    filename = getsourcefile(frame) or getfile(frame)\n",
            "  File \"/usr/lib/python3.8/inspect.py\", line 708, in getsourcefile\n",
            "    if getattr(getmodule(object, filename), '__loader__', None) is not None:\n",
            "  File \"/usr/lib/python3.8/inspect.py\", line 737, in getmodule\n",
            "    file = getabsfile(object, _filename)\n",
            "  File \"/usr/lib/python3.8/inspect.py\", line 721, in getabsfile\n",
            "    return os.path.normcase(os.path.abspath(_filename))\n",
            "  File \"/usr/lib/python3.8/posixpath.py\", line 379, in abspath\n",
            "    cwd = os.getcwd()\n",
            "OSError: [Errno 107] Transport endpoint is not connected\n"
          ]
        },
        {
          "output_type": "error",
          "ename": "OSError",
          "evalue": "ignored",
          "traceback": [
            "\u001b[0;31m---------------------------------------------------------------------------\u001b[0m"
          ]
        }
      ]
    },
    {
      "cell_type": "code",
      "source": [
        "!ls -lah '/content/gdrive/MyDrive/Colab Notebooks/SatelliteImagery/datasets/Satellite'"
      ],
      "metadata": {
        "colab": {
          "base_uri": "https://localhost:8080/"
        },
        "id": "y7JW54EbO248",
        "outputId": "8d14bf29-486f-451f-fd0c-9ef20c7ad065"
      },
      "execution_count": 80,
      "outputs": [
        {
          "output_type": "stream",
          "name": "stdout",
          "text": [
            "shell-init: error retrieving current directory: getcwd: cannot access parent directories: Transport endpoint is not connected\n",
            "total 4.0K\n",
            "drwx------ 2 root root 4.0K Feb 14 18:48 DubaiDataset\n"
          ]
        }
      ]
    },
    {
      "cell_type": "code",
      "source": [
        "dataset_root_folder='/content/gdrive/MyDrive/Colab Notebooks/SatelliteImagery/datasets/Satellite/'"
      ],
      "metadata": {
        "id": "vMjmYR_bpjih"
      },
      "execution_count": 82,
      "outputs": []
    },
    {
      "cell_type": "code",
      "source": [
        "dataset_name=\"DubaiDataset\""
      ],
      "metadata": {
        "id": "wSyfiSinREIa"
      },
      "execution_count": 81,
      "outputs": []
    },
    {
      "cell_type": "code",
      "source": [
        "for path, subdirs, files in os.walk(dataset_root_folder):\n",
        "  dir_name=path.split(os.path.sep)[-1]\n",
        "  #print(dir_name)\n",
        "  if dir_name=='masks': #images\n",
        "    images=os.listdir(path)\n",
        "    print(path)\n",
        "  #print(images)\n",
        "  for i, image_name in enumerate(images):\n",
        "    if(image_name.endswith('.png')): #'.jpg'\n",
        "      #print(image_name)\n",
        "      a=True"
      ],
      "metadata": {
        "colab": {
          "base_uri": "https://localhost:8080/"
        },
        "id": "cYBEqnVpRPGM",
        "outputId": "a9ad389a-fb15-494e-c220-f13f0c5c2455"
      },
      "execution_count": 83,
      "outputs": [
        {
          "output_type": "stream",
          "name": "stdout",
          "text": [
            "/content/gdrive/MyDrive/Colab Notebooks/SatelliteImagery/datasets/Satellite/DubaiDataset/Tile 4/masks\n",
            "/content/gdrive/MyDrive/Colab Notebooks/SatelliteImagery/datasets/Satellite/DubaiDataset/Tile 3/masks\n",
            "/content/gdrive/MyDrive/Colab Notebooks/SatelliteImagery/datasets/Satellite/DubaiDataset/Tile 8/masks\n",
            "/content/gdrive/MyDrive/Colab Notebooks/SatelliteImagery/datasets/Satellite/DubaiDataset/Tile 6/masks\n",
            "/content/gdrive/MyDrive/Colab Notebooks/SatelliteImagery/datasets/Satellite/DubaiDataset/Tile 2/masks\n",
            "/content/gdrive/MyDrive/Colab Notebooks/SatelliteImagery/datasets/Satellite/DubaiDataset/Tile 1/masks\n",
            "/content/gdrive/MyDrive/Colab Notebooks/SatelliteImagery/datasets/Satellite/DubaiDataset/Tile 5/masks\n",
            "/content/gdrive/MyDrive/Colab Notebooks/SatelliteImagery/datasets/Satellite/DubaiDataset/Tile 7/masks\n"
          ]
        }
      ]
    },
    {
      "cell_type": "code",
      "source": [
        "image = cv2.imread(f'{dataset_root_folder}/{dataset_name}/Tile 1/images/image_part_001.jpg',1)"
      ],
      "metadata": {
        "id": "XWqWkqZHT1oC"
      },
      "execution_count": 84,
      "outputs": []
    },
    {
      "cell_type": "code",
      "source": [
        "print(image)"
      ],
      "metadata": {
        "colab": {
          "base_uri": "https://localhost:8080/"
        },
        "id": "4djrOg3Fwcty",
        "outputId": "d6ba3521-5aa3-449d-813c-f63109a6514b"
      },
      "execution_count": 85,
      "outputs": [
        {
          "output_type": "stream",
          "name": "stdout",
          "text": [
            "[[[201 195 190]\n",
            "  [225 219 214]\n",
            "  [241 232 228]\n",
            "  ...\n",
            "  [255 236 231]\n",
            "  [254 234 229]\n",
            "  [255 239 234]]\n",
            "\n",
            " [[226 220 215]\n",
            "  [254 248 243]\n",
            "  [255 255 251]\n",
            "  ...\n",
            "  [252 231 229]\n",
            "  [247 228 223]\n",
            "  [242 223 218]]\n",
            "\n",
            " [[248 241 238]\n",
            "  [255 252 249]\n",
            "  [255 255 251]\n",
            "  ...\n",
            "  [253 234 231]\n",
            "  [252 235 232]\n",
            "  [245 228 225]]\n",
            "\n",
            " ...\n",
            "\n",
            " [[211 200 203]\n",
            "  [220 209 212]\n",
            "  [221 211 217]\n",
            "  ...\n",
            "  [220 229 242]\n",
            "  [234 243 255]\n",
            "  [235 244 255]]\n",
            "\n",
            " [[209 198 201]\n",
            "  [219 208 211]\n",
            "  [220 210 216]\n",
            "  ...\n",
            "  [213 222 235]\n",
            "  [222 231 244]\n",
            "  [218 227 240]]\n",
            "\n",
            " [[213 202 205]\n",
            "  [210 199 202]\n",
            "  [201 191 197]\n",
            "  ...\n",
            "  [223 232 245]\n",
            "  [233 242 255]\n",
            "  [230 239 252]]]\n"
          ]
        }
      ]
    },
    {
      "cell_type": "code",
      "source": [],
      "metadata": {
        "id": "0pZf7eN24OBM"
      },
      "execution_count": null,
      "outputs": []
    }
  ]
}